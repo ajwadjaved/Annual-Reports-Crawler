{
 "cells": [
  {
   "cell_type": "code",
   "execution_count": 3,
   "metadata": {},
   "outputs": [],
   "source": [
    "import requests\n",
    "from urllib import request\n",
    "from urllib.parse import urljoin\n",
    "import pandas as pd\n",
    "from bs4 import BeautifulSoup as bs\n",
    "import os, re\n",
    "import pickle"
   ]
  },
  {
   "cell_type": "code",
   "execution_count": 4,
   "metadata": {},
   "outputs": [],
   "source": [
    "def extract_table():\n",
    "    r = requests.get('http://www.annualreports.com/Companies?search=')\n",
    "    soup = bs(r.content, 'lxml')\n",
    "    df = pd.DataFrame([(i.text, 'http://www.annualreports.com' + i['href']) for i in soup.select('tbody td:nth-of-type(1) a')], columns = ['Company','Link'])\n",
    "    df.to_pickle('links.pkl')"
   ]
  },
  {
   "cell_type": "code",
   "execution_count": 5,
   "metadata": {},
   "outputs": [],
   "source": [
    "def scrap_pdfs():\n",
    "    df = pd.read_pickle('links.pkl')\n",
    "    print(df.Link.count())\n",
    "#     for x in range(df.Link.count()): \n",
    "                \n",
    "#         url = df['Link'][x]\n",
    "\n",
    "#         #If there is no such folder, the script will create one automatically\n",
    "#         folder_location = r'/home/duke/Annual_Reports/Data'\n",
    "\n",
    "#         response = requests.get(url)\n",
    "#         soup= bs(response.text, \"html.parser\")     \n",
    "#         for link in soup.select(\"a[href$='.pdf']\"):\n",
    "#             #Name the pdf files using the last portion of each link which are unique in this case\n",
    "#             filename = os.path.join(folder_location,link['href'].split('/')[-1])\n",
    "#             with open(filename, 'wb') as f:\n",
    "#                 f.write(requests.get(urljoin(url,link['href'])).content)"
   ]
  },
  {
   "cell_type": "code",
   "execution_count": 6,
   "metadata": {
    "scrolled": true
   },
   "outputs": [
    {
     "name": "stdout",
     "output_type": "stream",
     "text": [
      "5479\n"
     ]
    }
   ],
   "source": [
    "scrap_pdfs()"
   ]
  },
  {
   "cell_type": "code",
   "execution_count": null,
   "metadata": {},
   "outputs": [],
   "source": []
  },
  {
   "cell_type": "code",
   "execution_count": null,
   "metadata": {},
   "outputs": [],
   "source": []
  },
  {
   "cell_type": "code",
   "execution_count": null,
   "metadata": {},
   "outputs": [],
   "source": []
  }
 ],
 "metadata": {
  "kernelspec": {
   "display_name": "Python 3",
   "language": "python3",
   "name": "python3"
  },
  "language_info": {
   "codemirror_mode": {
    "name": "ipython",
    "version": 3
   },
   "file_extension": ".py",
   "mimetype": "text/x-python",
   "name": "python",
   "nbconvert_exporter": "python",
   "pygments_lexer": "ipython3",
   "version": "3.6.9"
  }
 },
 "nbformat": 4,
 "nbformat_minor": 2
}
